{
    "cells": [
        {
            "cell_type": "markdown",
            "metadata": {},
            "source": "<center>\n    <img src=\"https://s3-api.us-geo.objectstorage.softlayer.net/cf-courses-data/CognitiveClass/Logos/organization_logo/organization_logo.png\" width=\"300\" alt=\"cognitiveclass.ai logo\"  />\n</center>\n"
        },
        {
            "cell_type": "markdown",
            "metadata": {},
            "source": "#### Add your code below following the instructions given in the course\n"
        },
        {
            "cell_type": "markdown",
            "metadata": {},
            "source": "<h1>My Jupyter Notebook on IBM Watson Studio</h1>"
        },
        {
            "cell_type": "markdown",
            "metadata": {},
            "source": "<strong>Cristiano Napole\u00e3o</strong><p>Business Analyst</p>"
        },
        {
            "cell_type": "markdown",
            "metadata": {},
            "source": "<i>I am interested in data science because of how informative data can be, and the impact it can have on our lives.</i>"
        },
        {
            "cell_type": "markdown",
            "metadata": {},
            "source": "<h3>My code will take 2 variables which will hold string values and will join them (concatinate) together</h3>"
        },
        {
            "cell_type": "code",
            "execution_count": 2,
            "metadata": {},
            "outputs": [
                {
                    "name": "stdout",
                    "output_type": "stream",
                    "text": "Cristiano Napoleao\n"
                }
            ],
            "source": "fName = \"Cristiano\"\nlName = \"Napoleao\"\nfullName = fName + \" \" + lName\nprint(fullName)"
        },
        {
            "cell_type": "markdown",
            "metadata": {},
            "source": "<h2> My Favorite Fruits</h2>\n<ol>\n    <li>Mango</li>\n    <li>Pineapple</li>\n    <li>Tangerines</li>\n</ol>\n<hr>\n<h2> Things to Learn Still</h2>\n<ul>\n    <li>SQL</li>\n    <li>Python</li>\n    <li>Stats Basics</li>\n</ul>\n"
        }
    ],
    "metadata": {
        "kernelspec": {
            "display_name": "Python",
            "language": "python",
            "name": "conda-env-python-py"
        },
        "language_info": {
            "codemirror_mode": {
                "name": "ipython",
                "version": 3
            },
            "file_extension": ".py",
            "mimetype": "text/x-python",
            "name": "python",
            "nbconvert_exporter": "python",
            "pygments_lexer": "ipython3",
            "version": "3.7.12"
        }
    },
    "nbformat": 4,
    "nbformat_minor": 4
}